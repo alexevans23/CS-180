{
  "cells": [
    {
      "cell_type": "markdown",
      "metadata": {
        "id": "sBBfyELRQEfJ"
      },
      "source": [
        "<a href=\"https://colab.research.google.com/github/porterjenkins/CS180/blob/main/data_science_labs/data_science_lab_7.ipynb\" target=\"_parent\"><img src=\"https://colab.research.google.com/assets/colab-badge.svg\" alt=\"Open In Colab\"/></a><p><b>After clicking the \"Open in Colab\" link, copy the notebook to your own Google Drive before getting started, or it will not save your work</b></p>"
      ]
    },
    {
      "cell_type": "markdown",
      "metadata": {
        "id": "TeSX7lLboUt0"
      },
      "source": [
        "# BYU CS 180 Lab 7"
      ]
    },
    {
      "cell_type": "markdown",
      "metadata": {
        "id": "BnhWEScNUxrT"
      },
      "source": [
        "## Introduction:\n",
        "This lab helps to teach you the basics of probability.\n",
        "\n",
        "Exercises 1 - 5 are essentially math problems. Enter your answer in the (Enter answer here) spaces. Some of the exercises could be solved in a text cell or a code cell. You're free to replace the text cells with code cells if you'd like."
      ]
    },
    {
      "cell_type": "markdown",
      "metadata": {
        "id": "g7m3tLrQofZb"
      },
      "source": [
        "## Exercise 1: Vegas Trip"
      ]
    },
    {
      "cell_type": "markdown",
      "metadata": {
        "id": "6EdMde3VUq4m"
      },
      "source": [
        "##### For each random process, specify an appropriate sample space:"
      ]
    },
    {
      "cell_type": "markdown",
      "metadata": {
        "id": "2tkNowmk9jU-"
      },
      "source": [
        "A card is drawn from a standard deck of playing cards (no jokers)."
      ]
    },
    {
      "cell_type": "markdown",
      "metadata": {
        "id": "w7FAAuzS9l_D"
      },
      "source": [
        "Any of the 52 remaining cards in the deck:\n",
        "\n",
        "S = {spades: A, 2, 3, 4, 5, 6, 7, 8, 9, 10, J, Q, K\n",
        "\n",
        "clubs: A, 2, 3, 4 ,5 ,6, 7, 8, 9, 10, J, Q, K\n",
        "\n",
        "hearts: A, 2, 3, 4, 5, 6, 7, 8, 9, 10, J, Q, K\n",
        "\n",
        "diamonds: A, 2, 3, 4, 5, 6, 7, 8, 9, 10, J, Q, K}"
      ]
    },
    {
      "cell_type": "markdown",
      "metadata": {
        "id": "UFrDMQHM9m7u"
      },
      "source": [
        "The outcomes of three coin tosses (order of the flips matters)."
      ]
    },
    {
      "cell_type": "markdown",
      "source": [
        "S = {HHH, HHT, HTH, THH, HTT, THT, TTH, TTT}"
      ],
      "metadata": {
        "id": "ODVyX6UbEC8k"
      }
    },
    {
      "cell_type": "markdown",
      "metadata": {
        "id": "MOJ7pAgd91sS"
      },
      "source": [
        "A girl has a penny, nickel, dime, and quarter in her pocket. She takes two coins out of her pocket, one after the other (order matters)."
      ]
    },
    {
      "cell_type": "markdown",
      "metadata": {
        "id": "iLEjn2D997Yt"
      },
      "source": [
        "S = {ND, DN, NQ, QN, NP, PN, DQ, QD, DP, PD, QP, PQ}"
      ]
    },
    {
      "cell_type": "markdown",
      "metadata": {
        "id": "hgdZ9FW3ohi8"
      },
      "source": [
        "## Exercise 2: Probability Mass Function\n",
        "##### Consider the experiment of flipping three coins, a quarter, a dime, and a nickel. All three coins are fair and independent. Let X be a random variable denoting the number of tosses that result in heads.\n"
      ]
    },
    {
      "cell_type": "markdown",
      "metadata": {
        "id": "huWMFVgU-nmF"
      },
      "source": [
        "What is the sample space of X?"
      ]
    },
    {
      "cell_type": "markdown",
      "metadata": {
        "id": "4M_Kv0GX-wZu"
      },
      "source": [
        "S = {HHH, HHT, HTH, THH, HTT, THT, TTH, TTT}"
      ]
    },
    {
      "cell_type": "markdown",
      "metadata": {
        "id": "VlSCq1SN-yiw"
      },
      "source": [
        "What is the probability mass function of X?"
      ]
    },
    {
      "cell_type": "markdown",
      "metadata": {
        "id": "wHyfaJ8K-zbi"
      },
      "source": [
        "f(x) = {1/8 x = 3, 3/8 x = 2, 3/8 x = 1, 1/8 x = 0}"
      ]
    },
    {
      "cell_type": "markdown",
      "metadata": {
        "id": "siisKlzZois6"
      },
      "source": [
        "## Exercise 3: Dungeons and Dragons\n",
        "##### Consider an experiment where a green and red die are rolled together. Both  are standard, 6-sided dice. There are 36 possible events, and each event has a 1/36 chance of occurring. Compute the probabilities of the following events:"
      ]
    },
    {
      "cell_type": "markdown",
      "metadata": {
        "id": "6amsA_6W_JbN"
      },
      "source": [
        "The sum of the numbers on the dice is less than 4."
      ]
    },
    {
      "cell_type": "markdown",
      "metadata": {
        "id": "IqOMBAKw_KX0"
      },
      "source": [
        "0.0833 or 1/12"
      ]
    },
    {
      "cell_type": "markdown",
      "metadata": {
        "id": "OKFez36x_OiR"
      },
      "source": [
        "One die results in 3 and the other die is a number less than 3. It doesn't matter which die is the one that's 3 (order doesn't matter)."
      ]
    },
    {
      "cell_type": "markdown",
      "metadata": {
        "id": "8FowTC3S_PF9"
      },
      "source": [
        "0.1667 or 1/6"
      ]
    },
    {
      "cell_type": "markdown",
      "metadata": {
        "id": "uf5jCCNH_Qu6"
      },
      "source": [
        "The sum of the numbers on the dice is 2 or 12."
      ]
    },
    {
      "cell_type": "markdown",
      "metadata": {
        "id": "43B0jN2q_U3B"
      },
      "source": [
        "0.111 or 1/9"
      ]
    },
    {
      "cell_type": "markdown",
      "metadata": {
        "id": "hIGACJBb_uOF"
      },
      "source": [
        "## Exercise 4: Coin Toss\n",
        "##### Let X again denote the number of heads from tossing three independent coins (see Exercise 2)."
      ]
    },
    {
      "cell_type": "markdown",
      "metadata": {
        "id": "XubTT8Cs_x85"
      },
      "source": [
        "What is the expected value, E[x], of X?"
      ]
    },
    {
      "cell_type": "markdown",
      "metadata": {
        "id": "wIguMKY0By9w"
      },
      "source": [
        "0x1/8 + 1x3/8 + 2x3/8 + 3x1/8 = 3/2 or 1.5"
      ]
    },
    {
      "cell_type": "markdown",
      "metadata": {
        "id": "wIp1cqqq_zta"
      },
      "source": [
        "Let f(x) = X - E[x]. What is the expected value, E[f(x)]?"
      ]
    },
    {
      "cell_type": "code",
      "source": [],
      "metadata": {
        "id": "N8GKTO_JNQnC"
      },
      "execution_count": null,
      "outputs": []
    },
    {
      "cell_type": "markdown",
      "metadata": {
        "id": "NNlS_eCqBy9w"
      },
      "source": [
        "-1.5 - 0.5 + 0.5 + 1.5 = 0"
      ]
    },
    {
      "cell_type": "markdown",
      "metadata": {
        "id": "OUpbWQk-_6Ej"
      },
      "source": [
        "Let g(x) = (X - E[x])^2, also known as the variance of X. What is E[g(x)]?"
      ]
    },
    {
      "cell_type": "markdown",
      "metadata": {
        "id": "ISkaWUxaBy9x"
      },
      "source": [
        "0"
      ]
    },
    {
      "cell_type": "markdown",
      "metadata": {
        "id": "Kiq_U14sAFUM"
      },
      "source": [
        "## Exercise 5: Powerball\n",
        "##### A thousand tickets are sold in a lottery in which there is one top prize of \\$500, four prizes of \\$100 each, and five prizes of \\$10 each. A ticket costs \\$1. "
      ]
    },
    {
      "cell_type": "markdown",
      "metadata": {
        "id": "DBvW1X82AIXi"
      },
      "source": [
        "If X is your net gain from buying one ticket, what is the expected value of X?"
      ]
    },
    {
      "cell_type": "markdown",
      "metadata": {
        "id": "kan1yv_nBy9x"
      },
      "source": [
        "1/1000x500 + 4/1000x100 + 5/1000x10 + 990/1000x-1 = 1.06"
      ]
    },
    {
      "cell_type": "markdown",
      "metadata": {
        "id": "dCDGZQHcAKbE"
      },
      "source": [
        "Should you make this bet and participate in the lottery? Why?"
      ]
    },
    {
      "cell_type": "markdown",
      "metadata": {
        "id": "9bbQ9qLzBy9x"
      },
      "source": [
        "Yes, there is technically six cents of profit or opportunity for profit per ticket purchase. "
      ]
    },
    {
      "cell_type": "markdown",
      "metadata": {
        "id": "1ArmN4Z_A--_"
      },
      "source": [
        "## Exercise 6: Monte Carlo"
      ]
    },
    {
      "cell_type": "markdown",
      "metadata": {
        "id": "XMXvg2_pBldV"
      },
      "source": [
        "##### Let X be a gamma distributed random variable with a shape = 5.0 and a scale = 1.0. "
      ]
    },
    {
      "cell_type": "markdown",
      "metadata": {
        "id": "M1J4EplRDjSS"
      },
      "source": [
        "![image-20211012-205235.png](data:image/png;base64,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)"
      ]
    },
    {
      "cell_type": "markdown",
      "metadata": {
        "id": "2c8sbfa1DpgB"
      },
      "source": [
        "##### Approximate the expected value, E[f(x)], using a Monte Carlo algorithm where f(x) is defined as:"
      ]
    },
    {
      "cell_type": "markdown",
      "metadata": {
        "id": "YubQVSuqBy9z"
      },
      "source": [
        "##### $f(x) = sin(e^x) + ln(x)$"
      ]
    },
    {
      "cell_type": "markdown",
      "metadata": {
        "id": "PuD9ICp8D2iQ"
      },
      "source": [
        "What is the expected value of f(x)?"
      ]
    },
    {
      "cell_type": "code",
      "execution_count": 5,
      "metadata": {
        "id": "TyBTh8ScDzR5"
      },
      "outputs": [],
      "source": [
        "import numpy as np\n",
        "import matplotlib.pyplot as plt"
      ]
    },
    {
      "cell_type": "code",
      "source": [
        "def f(x):\n",
        "    return np.sin(np.exp(x)) + np.log(x)"
      ],
      "metadata": {
        "id": "4b4ArPIYQidW"
      },
      "execution_count": 2,
      "outputs": []
    },
    {
      "cell_type": "code",
      "source": [
        "shape = 5.0\n",
        "scale = 1.0\n",
        "num_samples = 1000000"
      ],
      "metadata": {
        "id": "vV0unzkoQo3y"
      },
      "execution_count": 3,
      "outputs": []
    },
    {
      "cell_type": "code",
      "source": [
        "samples = np.random.gamma(shape, scale, num_samples)\n",
        "values = f(samples)\n",
        "expected_value = np.mean(values)\n",
        "\n",
        "print(expected_value)"
      ],
      "metadata": {
        "colab": {
          "base_uri": "https://localhost:8080/"
        },
        "id": "CKJMzvbbQrll",
        "outputId": "d4381755-18fb-4332-d564-23d3d3e18b66"
      },
      "execution_count": 4,
      "outputs": [
        {
          "output_type": "stream",
          "name": "stdout",
          "text": [
            "1.4998001502112674\n"
          ]
        }
      ]
    },
    {
      "cell_type": "markdown",
      "metadata": {
        "id": "U23-mdhQD372"
      },
      "source": [
        "Create a histogram using the values of f(x) from the random draws of X. Plot a vertical red line denoting E[f(x)]."
      ]
    },
    {
      "cell_type": "code",
      "execution_count": 6,
      "metadata": {
        "id": "Iuf4Fe6YD5Tn",
        "colab": {
          "base_uri": "https://localhost:8080/",
          "height": 295
        },
        "outputId": "06d83d6d-7f47-437e-dd53-91caed160a8f"
      },
      "outputs": [
        {
          "output_type": "display_data",
          "data": {
            "text/plain": [
              "<Figure size 432x288 with 1 Axes>"
            ],
            "image/png": "[encoded data removed]"
          },
          "metadata": {
            "needs_background": "light"
          }
        }
      ],
      "source": [
        "plt.hist(values, bins=100, density=True)\n",
        "plt.axvline(expected_value, color='r', linestyle='dashed', linewidth=2)\n",
        "plt.xlabel('f(x)')\n",
        "plt.ylabel('Density')\n",
        "plt.title('Histogram of f(x)')\n",
        "plt.show()"
      ]
    }
  ],
  "metadata": {
    "colab": {
      "provenance": []
    },
    "kernelspec": {
      "display_name": "Python 3.8.8 ('base')",
      "language": "python",
      "name": "python3"
    },
    "language_info": {
      "name": "python",
      "version": "3.8.8"
    },
    "vscode": {
      "interpreter": {
        "hash": "40d3a090f54c6569ab1632332b64b2c03c39dcf918b08424e98f38b5ae0af88f"
      }
    }
  },
  "nbformat": 4,
  "nbformat_minor": 0
}