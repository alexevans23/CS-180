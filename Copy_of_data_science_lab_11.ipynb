{
  "nbformat": 4,
  "nbformat_minor": 0,
  "metadata": {
    "colab": {
      "provenance": []
    },
    "kernelspec": {
      "name": "python3",
      "display_name": "Python 3"
    },
    "language_info": {
      "name": "python"
    }
  },
  "cells": [
    {
      "cell_type": "markdown",
      "source": [
        "<a href=\"https://colab.research.google.com/github/porterjenkins/CS180/blob/main/data_science_labs/data_science_lab_11.ipynb\" target=\"_parent\"><img src=\"https://colab.research.google.com/assets/colab-badge.svg\" alt=\"Open In Colab\"/></a><p><b>After clicking the \"Open in Colab\" link, copy the notebook to your own Google Drive before getting started, or it will not save your work</b></p>"
      ],
      "metadata": {
        "id": "IPir_6bCCFnZ"
      }
    },
    {
      "cell_type": "markdown",
      "source": [
        "# BYU CS 180 Lab 11"
      ],
      "metadata": {
        "id": "_slaQdUGCB0t"
      }
    },
    {
      "cell_type": "code",
      "source": [
        "# Dependencies for the lab\n",
        "import numpy as np\n",
        "import matplotlib.pyplot as plt\n",
        "import pandas as pd\n",
        "import sklearn"
      ],
      "metadata": {
        "id": "Gaema31vjP8f"
      },
      "execution_count": 1,
      "outputs": []
    },
    {
      "cell_type": "markdown",
      "source": [
        "## Introduction:\n",
        "You will use the `sklearn` API to train various classifiers. Feel free to use any `sklearn`, `numpy`, or `pandas` function to help you with the lab.\n",
        "\n",
        "The 20 newsgroups dataset comprises around 18000 newsgroups posts on 20 topics. The 20 categories are:\n",
        "```\n",
        "['alt.atheism',\n",
        " 'comp.graphics',\n",
        " 'comp.os.ms-windows.misc',\n",
        " 'comp.sys.ibm.pc.hardware',\n",
        " 'comp.sys.mac.hardware',\n",
        " 'comp.windows.x',\n",
        " 'misc.forsale',\n",
        " 'rec.autos',\n",
        " 'rec.motorcycles',\n",
        " 'rec.sport.baseball',\n",
        " 'rec.sport.hockey',\n",
        " 'sci.crypt',\n",
        " 'sci.electronics',\n",
        " 'sci.med',\n",
        " 'sci.space',\n",
        " 'soc.religion.christian',\n",
        " 'talk.politics.guns',\n",
        " 'talk.politics.mideast',\n",
        " 'talk.politics.misc',\n",
        " 'talk.religion.misc']\n",
        "```\n",
        "The posts are raw text. For example:\n",
        "\n",
        "**Post:**\n",
        "```\n",
        "From: lerxst@wam.umd.edu (where's my thing)\n",
        "Subject: WHAT car is this!?\n",
        "Nntp-Posting-Host: rac3.wam.umd.edu\n",
        "Organization: University of Maryland, College Park\n",
        "Lines: 15\n",
        "\n",
        " I was wondering if anyone out there could enlighten me on this car I saw\n",
        "the other day. It was a 2-door sports car, looked to be from the late 60s/\n",
        "early 70s. It was called a Bricklin. The doors were really small. In addition,\n",
        "the front bumper was separate from the rest of the body. This is \n",
        "all I know. If anyone can tellme a model name, engine specs, years\n",
        "of production, where this car is made, history, or whatever info you\n",
        "have on this funky looking car, please e-mail.\n",
        "\n",
        "Thanks,\n",
        "- IL\n",
        "   ---- brought to you by your neighborhood Lerxst ----\n",
        "```\n",
        "\n",
        "**Target:**\n",
        "```\n",
        "'rec.autos'\n",
        "```\n",
        "\n",
        "Your task will be to build a classifier to predict the category of posts. You will do the following in this notebook:"
      ],
      "metadata": {
        "id": "ct7fnkcnCL8O"
      }
    },
    {
      "cell_type": "markdown",
      "source": [
        "## Exercise 1: Retrieve the Data\n",
        "Download `fetch_20newsgroups` dataset"
      ],
      "metadata": {
        "id": "PUat5xRAcdrC"
      }
    },
    {
      "cell_type": "code",
      "source": [
        "from sklearn.datasets import fetch_20newsgroups\n",
        "data = fetch_20newsgroups()\n",
        "docs = data['data']\n",
        "targets = data[\"target\"]\n",
        "names = data.target_names"
      ],
      "metadata": {
        "id": "j1m2KIHShNdC"
      },
      "execution_count": 2,
      "outputs": []
    },
    {
      "cell_type": "markdown",
      "source": [
        "Print off the first document and its target classification to make sure its been downloaded correctly "
      ],
      "metadata": {
        "id": "BXDLQKs3hUM8"
      }
    },
    {
      "cell_type": "code",
      "source": [
        "print(docs[0])"
      ],
      "metadata": {
        "id": "-hfFbcRohgMf",
        "colab": {
          "base_uri": "https://localhost:8080/"
        },
        "outputId": "ddaade8b-9078-4b9c-9b95-c9c2496ee50a"
      },
      "execution_count": 3,
      "outputs": [
        {
          "output_type": "stream",
          "name": "stdout",
          "text": [
            "From: lerxst@wam.umd.edu (where's my thing)\n",
            "Subject: WHAT car is this!?\n",
            "Nntp-Posting-Host: rac3.wam.umd.edu\n",
            "Organization: University of Maryland, College Park\n",
            "Lines: 15\n",
            "\n",
            " I was wondering if anyone out there could enlighten me on this car I saw\n",
            "the other day. It was a 2-door sports car, looked to be from the late 60s/\n",
            "early 70s. It was called a Bricklin. The doors were really small. In addition,\n",
            "the front bumper was separate from the rest of the body. This is \n",
            "all I know. If anyone can tellme a model name, engine specs, years\n",
            "of production, where this car is made, history, or whatever info you\n",
            "have on this funky looking car, please e-mail.\n",
            "\n",
            "Thanks,\n",
            "- IL\n",
            "   ---- brought to you by your neighborhood Lerxst ----\n",
            "\n",
            "\n",
            "\n",
            "\n",
            "\n"
          ]
        }
      ]
    },
    {
      "cell_type": "code",
      "source": [
        "print(targets[0])"
      ],
      "metadata": {
        "colab": {
          "base_uri": "https://localhost:8080/"
        },
        "id": "e_RK2jQFqdm7",
        "outputId": "cb9577d3-8472-477a-f03d-89d25ddf7488"
      },
      "execution_count": 4,
      "outputs": [
        {
          "output_type": "stream",
          "name": "stdout",
          "text": [
            "7\n"
          ]
        }
      ]
    },
    {
      "cell_type": "markdown",
      "source": [
        "## Exercise 2: Understand the Data"
      ],
      "metadata": {
        "id": "RSUun4WVcl17"
      }
    },
    {
      "cell_type": "markdown",
      "source": [
        "Perform some exploratory analysis on your data. Specifically, plot a bar chart showing distribution of the categories (classes)"
      ],
      "metadata": {
        "id": "xJZbee3ihnqV"
      }
    },
    {
      "cell_type": "code",
      "source": [
        "count = [sum(targets == i) for i in range(len(names))]\n",
        "plt.bar(names, count)\n",
        "plt.xticks(rotation=90)\n",
        "plt.xlabel('Categories')\n",
        "plt.ylabel('Number of documents')\n",
        "plt.title('Distribution of categories in 20 newsgroups dataset')\n",
        "plt.show()\n"
      ],
      "metadata": {
        "id": "veGuUMbEhj5-",
        "colab": {
          "base_uri": "https://localhost:8080/",
          "height": 645
        },
        "outputId": "5062d308-38c6-4a22-a345-ca2438be808f"
      },
      "execution_count": 5,
      "outputs": [
        {
          "output_type": "display_data",
          "data": {
            "text/plain": [
              "<Figure size 640x480 with 1 Axes>"
            ],
            "image/png": "[encoded data removed]"
          },
          "metadata": {}
        }
      ]
    },
    {
      "cell_type": "markdown",
      "source": [
        "## Exercise 3: Engineer the Data\n",
        "Extract features from raw text. You are free to be creative here. There is no correct answer. Try and think of the features (input) that are most predictive of the category. Some helpful sklearn feature engineering code can be found here (I'd recommend reading through the documentation before diving in and trying to get these tools to work):\n",
        "\n",
        "* [CountVectorizer](https://scikit-learn.org/stable/modules/generated/sklearn.feature_extraction.text.CountVectorizer.html#sklearn.feature_extraction.text.CountVectorizer)\n",
        "* [TFIDF Text Features](https://scikit-learn.org/stable/modules/generated/sklearn.feature_extraction.text.TfidfVectorizer.html)"
      ],
      "metadata": {
        "id": "CBmTXeqpcq5W"
      }
    },
    {
      "cell_type": "code",
      "source": [
        "from sklearn.feature_extraction.text import CountVectorizer, TfidfVectorizer"
      ],
      "metadata": {
        "id": "JbpYzwAP0aW6"
      },
      "execution_count": 6,
      "outputs": []
    },
    {
      "cell_type": "code",
      "source": [
        "cv = CountVectorizer(stop_words='english', max_features=1000)\n",
        "cv_features = cv.fit_transform(docs)"
      ],
      "metadata": {
        "id": "M18gziAZifj0"
      },
      "execution_count": 7,
      "outputs": []
    },
    {
      "cell_type": "code",
      "source": [
        "tfidf = TfidfVectorizer(stop_words='english', max_features=1000)\n",
        "tfidf_features = tfidf.fit_transform(docs)"
      ],
      "metadata": {
        "id": "Wv1k8Skd0sHY"
      },
      "execution_count": 8,
      "outputs": []
    },
    {
      "cell_type": "markdown",
      "source": [
        "## Exercise 4: Split the Data\n",
        "\n",
        "Split your data into train and test splits. Use an 80%/20% split rule for train and test respectively. I'd recommend using the function from the last lab"
      ],
      "metadata": {
        "id": "JN4r2NSpc5hQ"
      }
    },
    {
      "cell_type": "code",
      "source": [
        "from sklearn.model_selection import train_test_split"
      ],
      "metadata": {
        "id": "1YDpl7861auG"
      },
      "execution_count": 9,
      "outputs": []
    },
    {
      "cell_type": "code",
      "source": [
        "X_train, X_test, y_train, y_test = train_test_split(docs, targets, test_size=0.2, random_state=42)"
      ],
      "metadata": {
        "id": "C6uiqrStkxww"
      },
      "execution_count": 10,
      "outputs": []
    },
    {
      "cell_type": "markdown",
      "source": [
        "## Exercise 5: Train the Model"
      ],
      "metadata": {
        "id": "eW6QTIUxcz_G"
      }
    },
    {
      "cell_type": "markdown",
      "source": [
        "Using sklearn, train the following three classifiers using the training set:\n",
        "* KNN\n",
        "* Decision Tree\n",
        "* Logistic Regression"
      ],
      "metadata": {
        "id": "mNY2czLak_pA"
      }
    },
    {
      "cell_type": "code",
      "source": [
        "from sklearn.neighbors import KNeighborsClassifier\n",
        "from sklearn.tree import DecisionTreeClassifier\n",
        "from sklearn.linear_model import LogisticRegression\n",
        "from sklearn.metrics import accuracy_score"
      ],
      "metadata": {
        "id": "pD2_yER24_Hw"
      },
      "execution_count": 11,
      "outputs": []
    },
    {
      "cell_type": "code",
      "source": [
        "X_train_bow = cv.fit_transform(X_train)\n",
        "X_test_bow = cv.transform(X_test)"
      ],
      "metadata": {
        "id": "0CnYOu0349yN"
      },
      "execution_count": 12,
      "outputs": []
    },
    {
      "cell_type": "code",
      "source": [
        "knn = KNeighborsClassifier()\n",
        "knn.fit(X_train_bow, y_train)\n",
        "knn_pred = knn.predict(X_test_bow)\n"
      ],
      "metadata": {
        "id": "MIaBp38BlEzu"
      },
      "execution_count": 13,
      "outputs": []
    },
    {
      "cell_type": "code",
      "source": [
        "dt = DecisionTreeClassifier()\n",
        "dt.fit(X_train_bow, y_train)\n",
        "dt_pred = dt.predict(X_test_bow)"
      ],
      "metadata": {
        "id": "xSINn2VklIH9"
      },
      "execution_count": 14,
      "outputs": []
    },
    {
      "cell_type": "code",
      "source": [
        "lr = LogisticRegression(max_iter=1000)\n",
        "lr.fit(X_train_bow, y_train)\n",
        "lr_pred = lr.predict(X_test_bow)"
      ],
      "metadata": {
        "id": "ZayZjHO1lNXG"
      },
      "execution_count": 15,
      "outputs": []
    },
    {
      "cell_type": "markdown",
      "source": [
        "## Exercise 6: Evaluate the Model\n",
        "Compare the performance of your classifiers on the test set. Discuss which one performs the best."
      ],
      "metadata": {
        "id": "gRC3UrQjdOtM"
      }
    },
    {
      "cell_type": "code",
      "source": [
        "knn_acc = accuracy_score(y_test, knn_pred)\n",
        "print(knn_acc)"
      ],
      "metadata": {
        "id": "fviUlnNZl_Ek",
        "colab": {
          "base_uri": "https://localhost:8080/"
        },
        "outputId": "cc9b30e8-e222-42fe-ac0b-62886603c2ee"
      },
      "execution_count": 16,
      "outputs": [
        {
          "output_type": "stream",
          "name": "stdout",
          "text": [
            "0.4745912505523641\n"
          ]
        }
      ]
    },
    {
      "cell_type": "code",
      "source": [
        "dt_acc = accuracy_score(y_test, dt_pred)\n",
        "print(dt_acc)"
      ],
      "metadata": {
        "id": "NFysD0Krl9-n",
        "colab": {
          "base_uri": "https://localhost:8080/"
        },
        "outputId": "cd2b9b49-b000-417e-9958-d313ea6aea48"
      },
      "execution_count": 17,
      "outputs": [
        {
          "output_type": "stream",
          "name": "stdout",
          "text": [
            "0.5961113566062749\n"
          ]
        }
      ]
    },
    {
      "cell_type": "code",
      "source": [
        "lr_acc = accuracy_score(y_test, lr_pred)\n",
        "print(lr_acc)"
      ],
      "metadata": {
        "id": "FVjIpzzxl8E-",
        "colab": {
          "base_uri": "https://localhost:8080/"
        },
        "outputId": "4eff5eb0-db9d-4dfe-84a0-e3bcb96a080c"
      },
      "execution_count": 18,
      "outputs": [
        {
          "output_type": "stream",
          "name": "stdout",
          "text": [
            "0.7476800707026071\n"
          ]
        }
      ]
    },
    {
      "cell_type": "markdown",
      "source": [
        "Discuss which one performs the best:"
      ],
      "metadata": {
        "id": "ofWWlon9mqUw"
      }
    },
    {
      "cell_type": "markdown",
      "source": [
        "After calculating the three accuracy scores of each, the most accurate is the Logistic Regression model"
      ],
      "metadata": {
        "id": "rLE2qUqpmu0P"
      }
    }
  ]
}